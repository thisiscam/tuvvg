{
  "nbformat": 4,
  "nbformat_minor": 0,
  "metadata": {
    "colab": {
      "provenance": [],
      "toc_visible": true,
      "authorship_tag": "ABX9TyNwnIl0h/XDU0Qi3F6ka1cC",
      "include_colab_link": true
    },
    "kernelspec": {
      "name": "python3",
      "display_name": "Python 3"
    },
    "language_info": {
      "name": "python"
    }
  },
  "cells": [
    {
      "cell_type": "markdown",
      "metadata": {
        "id": "view-in-github",
        "colab_type": "text"
      },
      "source": [
        "<a href=\"https://colab.research.google.com/github/thisiscam/tuvvg/blob/main/tuvvg.ipynb\" target=\"_parent\"><img src=\"https://colab.research.google.com/assets/colab-badge.svg\" alt=\"Open In Colab\"/></a>"
      ]
    },
    {
      "cell_type": "markdown",
      "source": [
        "# TUVVG: The Ultimate Vase-mode Vase generator\n",
        "\n",
        "This scripts is a powerful generator for **any** vase-mode vase mesh object.\n",
        "\n",
        "Simply define your own side surface function and get a 3D printable vase!"
      ],
      "metadata": {
        "id": "ULi-QJtwEccR"
      }
    },
    {
      "cell_type": "code",
      "source": [
        "!pip install numpy-stl"
      ],
      "metadata": {
        "colab": {
          "base_uri": "https://localhost:8080/"
        },
        "id": "s8Wbx-COGST1",
        "outputId": "e093b472-3f8c-4d70-b9d3-88a9438c38bb"
      },
      "execution_count": 3,
      "outputs": [
        {
          "output_type": "stream",
          "name": "stdout",
          "text": [
            "Looking in indexes: https://pypi.org/simple, https://us-python.pkg.dev/colab-wheels/public/simple/\n",
            "Collecting numpy-stl\n",
            "  Downloading numpy_stl-3.0.1-py3-none-any.whl (19 kB)\n",
            "Requirement already satisfied: numpy in /usr/local/lib/python3.9/dist-packages (from numpy-stl) (1.22.4)\n",
            "Requirement already satisfied: python-utils>=3.4.5 in /usr/local/lib/python3.9/dist-packages (from numpy-stl) (3.5.2)\n",
            "Installing collected packages: numpy-stl\n",
            "Successfully installed numpy-stl-3.0.1\n"
          ]
        }
      ]
    },
    {
      "cell_type": "markdown",
      "source": [
        "## Core function `make_vase` \n",
        "\n",
        "Expand to see the documentation, or skip to next section for sample usage) "
      ],
      "metadata": {
        "id": "91QfowCXFS3s"
      }
    },
    {
      "cell_type": "code",
      "execution_count": 5,
      "metadata": {
        "id": "-GZFvbFkEbXB"
      },
      "outputs": [],
      "source": [
        "from typing import Callable\n",
        "\n",
        "import numpy as np\n",
        "import scipy.spatial\n",
        "import stl\n",
        "\n",
        "SurfaceFn = Callable[[np.ndarray, np.ndarray], np.ndarray]\n",
        "\n",
        "\n",
        "def make_vase(surface_fn: SurfaceFn, npoints: int = 100) -> stl.mesh.Mesh:\n",
        "    \"\"\"Make a vase mesh from a function that draws its side surface.\n",
        "    \n",
        "    This function takes in a function that draws a side surface of a vase \n",
        "    (cylinder-like object) and completes it into a mesh by adding the the top and \n",
        "    bottom surface.\n",
        "    The constructed mesh can be directly used in most slicers that supports \n",
        "    \"vase mode printing\".\n",
        "    In principle, this function can be used to draw _any_ 3d object that can \n",
        "    be printed in vase mode by being smart about the surface function.\n",
        "\n",
        "    Args:\n",
        "        surface_fn: A function that takes two arrays of angles and heights and \n",
        "            returns an array of radii. \n",
        "        npoints: Number of points to use. You can imagine unraveling a cylinder \n",
        "            into a rectangular grid. The parameter `npoints` specifies the \n",
        "            number of points in each direction of that grid. The default value\n",
        "            of 100 is usually good for a quick overview of the mesh, but you \n",
        "            may want to increase it for a more detailed mesh prior to printing.\n",
        "    \n",
        "    Returns:\n",
        "        A stl.mesh.Mesh object.\n",
        "    \"\"\"\n",
        "    thetas = np.linspace(0, 2 * np.pi, npoints)\n",
        "    maxh = 1\n",
        "    hs = np.linspace(0, maxh, npoints)\n",
        "    points = np.stack(np.meshgrid(thetas, hs), axis=2).reshape(-1, 2)\n",
        "    tri = scipy.spatial.Delaunay(points)\n",
        "    radius = surface_fn(points[..., 0], points[..., 1])\n",
        "\n",
        "    # side surface\n",
        "    x, y, z = radius * np.cos(points[:, 0]), radius * np.sin(points[:, 0]), points[:, 1]\n",
        "    xyz = np.vstack([x.ravel(), y.ravel(), z.ravel()]).T\n",
        "    xyz_grid = xyz.reshape(npoints, npoints, 3)\n",
        "    # bottom surface\n",
        "    bottom_loop = xyz_grid[0, :, :]\n",
        "    bottom_simplices = np.stack([\n",
        "            bottom_loop, \n",
        "            np.roll(bottom_loop, 1, axis=0), \n",
        "            np.zeros((npoints, 3))\n",
        "        ], axis=1)\n",
        "    # top surface\n",
        "    top_loop = xyz_grid[-1, :, :]\n",
        "    top_simplices = np.stack([\n",
        "            np.roll(top_loop, 1, axis=0), \n",
        "            top_loop, \n",
        "            np.broadcast_to(np.array([0, 0, maxh]), (npoints, 3))\n",
        "        ], axis=1)\n",
        "\n",
        "    # construct mesh\n",
        "    data = np.zeros(\n",
        "        len(tri.simplices) + len(bottom_simplices) + len(top_simplices), \n",
        "        dtype=stl.mesh.Mesh.dtype)\n",
        "    data['vectors'][:len(tri.simplices)] = xyz[tri.simplices.flatten()].reshape(-1, 3, 3)\n",
        "    data['vectors'][len(tri.simplices):len(tri.simplices) + len(bottom_simplices)] = bottom_simplices\n",
        "    data['vectors'][len(tri.simplices) + len(bottom_simplices):] = top_simplices\n",
        "    data['vectors'] *= 100 # unit is mm\n",
        "    return stl.mesh.Mesh(data.copy())"
      ]
    },
    {
      "cell_type": "markdown",
      "source": [
        "## Example Usages"
      ],
      "metadata": {
        "id": "uv03-c3hFhEC"
      }
    },
    {
      "cell_type": "code",
      "source": [
        "from google.colab import files\n",
        "\n",
        "def surface1(theta, h):\n",
        "    return 0.25 * (\n",
        "        np.maximum(np.sin(8 * theta + 3 * h), 0.93) + \n",
        "        np.sin(7 * theta + 3 - 3 * (h - 0.1) ** 2)  / 10 + \n",
        "        (h - 1 * 2 / 3) ** 2 / 5\n",
        "    )\n",
        "\n",
        "def surface2(theta, h):\n",
        "    return 0.25 * (\n",
        "        np.maximum(np.sin(6 * (theta + h)), 0.95) + \n",
        "        np.sin(7 * theta + 3 - 8 * (h - 0.1) ** 2) / 10 -\n",
        "        np.minimum(np.abs(np.sin(h * 10) / 30), 0.5))\n",
        "\n",
        "def download_vase(surface_fn, preview: bool = True):\n",
        "  file_path = \"model.stl\"\n",
        "  npoints = 100 if preview else 500\n",
        "  vase = make_vase(surface_fn=surface1, npoints=npoints)\n",
        "  vase.save(file_path)\n",
        "  files.download(file_path)\n",
        "\n",
        "download_vase(surface1)\n",
        "# download_vase(surface2)\n"
      ],
      "metadata": {
        "colab": {
          "base_uri": "https://localhost:8080/",
          "height": 17
        },
        "id": "jGH0jFeYFf1n",
        "outputId": "c9dfacb5-3ac1-4e1f-90f6-9cc2f721b9f4"
      },
      "execution_count": 8,
      "outputs": [
        {
          "output_type": "display_data",
          "data": {
            "text/plain": [
              "<IPython.core.display.Javascript object>"
            ],
            "application/javascript": [
              "\n",
              "    async function download(id, filename, size) {\n",
              "      if (!google.colab.kernel.accessAllowed) {\n",
              "        return;\n",
              "      }\n",
              "      const div = document.createElement('div');\n",
              "      const label = document.createElement('label');\n",
              "      label.textContent = `Downloading \"${filename}\": `;\n",
              "      div.appendChild(label);\n",
              "      const progress = document.createElement('progress');\n",
              "      progress.max = size;\n",
              "      div.appendChild(progress);\n",
              "      document.body.appendChild(div);\n",
              "\n",
              "      const buffers = [];\n",
              "      let downloaded = 0;\n",
              "\n",
              "      const channel = await google.colab.kernel.comms.open(id);\n",
              "      // Send a message to notify the kernel that we're ready.\n",
              "      channel.send({})\n",
              "\n",
              "      for await (const message of channel.messages) {\n",
              "        // Send a message to notify the kernel that we're ready.\n",
              "        channel.send({})\n",
              "        if (message.buffers) {\n",
              "          for (const buffer of message.buffers) {\n",
              "            buffers.push(buffer);\n",
              "            downloaded += buffer.byteLength;\n",
              "            progress.value = downloaded;\n",
              "          }\n",
              "        }\n",
              "      }\n",
              "      const blob = new Blob(buffers, {type: 'application/binary'});\n",
              "      const a = document.createElement('a');\n",
              "      a.href = window.URL.createObjectURL(blob);\n",
              "      a.download = filename;\n",
              "      div.appendChild(a);\n",
              "      a.click();\n",
              "      div.remove();\n",
              "    }\n",
              "  "
            ]
          },
          "metadata": {}
        },
        {
          "output_type": "display_data",
          "data": {
            "text/plain": [
              "<IPython.core.display.Javascript object>"
            ],
            "application/javascript": [
              "download(\"download_f26d0b60-5e3b-4a3f-9186-c0e73f7fd8d5\", \"model.stl\", 990184)"
            ]
          },
          "metadata": {}
        }
      ]
    }
  ]
}